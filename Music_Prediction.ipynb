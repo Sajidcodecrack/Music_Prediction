{
  "nbformat": 4,
  "nbformat_minor": 0,
  "metadata": {
    "colab": {
      "provenance": [],
      "mount_file_id": "1YA01MMApYoXF_Mdpz3atcQPEafMlwhr2",
      "authorship_tag": "ABX9TyN/5q3H7biMatkKg3fgm2uU",
      "include_colab_link": true
    },
    "kernelspec": {
      "name": "python3",
      "display_name": "Python 3"
    },
    "language_info": {
      "name": "python"
    }
  },
  "cells": [
    {
      "cell_type": "markdown",
      "metadata": {
        "id": "view-in-github",
        "colab_type": "text"
      },
      "source": [
        "<a href=\"https://colab.research.google.com/github/Sajidcodecrack/Music_Prediction/blob/main/Music_Prediction.ipynb\" target=\"_parent\"><img src=\"https://colab.research.google.com/assets/colab-badge.svg\" alt=\"Open In Colab\"/></a>"
      ]
    },
    {
      "cell_type": "code",
      "execution_count": 2,
      "metadata": {
        "id": "fdqhOyFRHpg5",
        "colab": {
          "base_uri": "https://localhost:8080/"
        },
        "outputId": "452c8d3a-c660-4c79-f0b8-ee53dd44f836"
      },
      "outputs": [
        {
          "output_type": "stream",
          "name": "stdout",
          "text": [
            "Drive already mounted at /content/drive; to attempt to forcibly remount, call drive.mount(\"/content/drive\", force_remount=True).\n"
          ]
        }
      ],
      "source": [
        "from google.colab import drive\n",
        "drive.mount('/content/drive')"
      ]
    },
    {
      "cell_type": "markdown",
      "source": [],
      "metadata": {
        "id": "FTN4uA7v-d64"
      }
    },
    {
      "cell_type": "code",
      "source": [
        "import pandas as pd\n",
        "from sklearn.tree import DecisionTreeClassifier\n",
        "\n",
        "# Reading datas:\n",
        "music_data=pd.read_csv(\"/content/drive/MyDrive/ImageProcessing_SelfPractice/music.csv\")\n",
        "music_data.head(10)\n",
        "# Need to drop the data as my target it 'genre' and my features are 'age ,gender'\n",
        "X=music_data.drop(columns=['genre'])\n",
        "y=music_data['genre']\n",
        "model=DecisionTreeClassifier()\n",
        "model.fit(X,y)\n",
        "predictions=model.predict([[23,1],[25,1],[26,0],[27,0],[21,0],[30,0]])\n",
        "predictions\n",
        "\n",
        "# In here I use decessio_tree library"
      ],
      "metadata": {
        "id": "F4UoiB10JvrR",
        "colab": {
          "base_uri": "https://localhost:8080/"
        },
        "outputId": "dba9a073-d8d0-42c3-eb34-c786394c3041"
      },
      "execution_count": 3,
      "outputs": [
        {
          "output_type": "stream",
          "name": "stderr",
          "text": [
            "/usr/local/lib/python3.10/dist-packages/sklearn/base.py:493: UserWarning: X does not have valid feature names, but DecisionTreeClassifier was fitted with feature names\n",
            "  warnings.warn(\n"
          ]
        },
        {
          "output_type": "execute_result",
          "data": {
            "text/plain": [
              "array(['HipHop', 'HipHop', 'Acoustic', 'Acoustic', 'Dance', 'Acoustic'],\n",
              "      dtype=object)"
            ]
          },
          "metadata": {},
          "execution_count": 3
        }
      ]
    },
    {
      "cell_type": "code",
      "source": [
        "from sklearn.model_selection import train_test_split\n",
        "from sklearn.metrics import accuracy_score\n",
        "X_train,X_test,y_train,y_test=train_test_split(X,y,test_size=.3,random_state=40)"
      ],
      "metadata": {
        "id": "8p4LqUj2McQS"
      },
      "execution_count": 4,
      "outputs": []
    }
  ]
}